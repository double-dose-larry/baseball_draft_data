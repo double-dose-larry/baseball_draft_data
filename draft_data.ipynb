{
 "cells": [
  {
   "cell_type": "code",
   "execution_count": 23,
   "metadata": {},
   "outputs": [],
   "source": [
    "import pandas as pd\n",
    "import json\n",
    "import requests\n",
    "pd.set_option(\"display.max_columns\",100)"
   ]
  },
  {
   "cell_type": "code",
   "execution_count": 2,
   "metadata": {},
   "outputs": [
    {
     "data": {
      "text/html": [
       "<div>\n",
       "<style scoped>\n",
       "    .dataframe tbody tr th:only-of-type {\n",
       "        vertical-align: middle;\n",
       "    }\n",
       "\n",
       "    .dataframe tbody tr th {\n",
       "        vertical-align: top;\n",
       "    }\n",
       "\n",
       "    .dataframe thead th {\n",
       "        text-align: right;\n",
       "    }\n",
       "</style>\n",
       "<table border=\"1\" class=\"dataframe\">\n",
       "  <thead>\n",
       "    <tr style=\"text-align: right;\">\n",
       "      <th></th>\n",
       "      <th>historical_draft</th>\n",
       "    </tr>\n",
       "  </thead>\n",
       "  <tbody>\n",
       "    <tr>\n",
       "      <th>copyRight</th>\n",
       "      <td>Copyright 2019 MLB Advanced Media, L.P.  Use ...</td>\n",
       "    </tr>\n",
       "    <tr>\n",
       "      <th>queryResults</th>\n",
       "      <td>{'created': '2020-01-16T22:44:17', 'totalSize'...</td>\n",
       "    </tr>\n",
       "  </tbody>\n",
       "</table>\n",
       "</div>"
      ],
      "text/plain": [
       "                                               historical_draft\n",
       "copyRight      Copyright 2019 MLB Advanced Media, L.P.  Use ...\n",
       "queryResults  {'created': '2020-01-16T22:44:17', 'totalSize'..."
      ]
     },
     "execution_count": 2,
     "metadata": {},
     "output_type": "execute_result"
    }
   ],
   "source": [
    "pd.read_json(\"https://lookup-service-prod.mlb.com/json/named.historical_draft.bam?season=1965\") # this doesn't work, shame"
   ]
  },
  {
   "cell_type": "code",
   "execution_count": 27,
   "metadata": {},
   "outputs": [],
   "source": [
    "def get_draft_data(year):\n",
    "    print(f\"getting year {year}\")\n",
    "    json_reply = requests.get(f\"https://lookup-service-prod.mlb.com/json/named.historical_draft.bam?season={year}\").json()\n",
    "    df = pd.DataFrame(json_reply[\"historical_draft\"][\"queryResults\"][\"row\"])\n",
    "    df[\"year\"] = year\n",
    "    return df"
   ]
  },
  {
   "cell_type": "code",
   "execution_count": 28,
   "metadata": {},
   "outputs": [
    {
     "name": "stdout",
     "output_type": "stream",
     "text": [
      "getting year 1965\n",
      "getting year 1966\n",
      "getting year 1967\n",
      "getting year 1968\n",
      "getting year 1969\n",
      "getting year 1970\n",
      "getting year 1971\n",
      "getting year 1972\n",
      "getting year 1973\n",
      "getting year 1974\n",
      "getting year 1975\n",
      "getting year 1976\n",
      "getting year 1977\n",
      "getting year 1978\n",
      "getting year 1979\n",
      "getting year 1980\n",
      "getting year 1981\n",
      "getting year 1982\n",
      "getting year 1983\n",
      "getting year 1984\n",
      "getting year 1985\n",
      "getting year 1986\n",
      "getting year 1987\n",
      "getting year 1988\n",
      "getting year 1989\n",
      "getting year 1990\n",
      "getting year 1991\n",
      "getting year 1992\n",
      "getting year 1993\n",
      "getting year 1994\n",
      "getting year 1995\n",
      "getting year 1996\n",
      "getting year 1997\n",
      "getting year 1998\n",
      "getting year 1999\n",
      "getting year 2000\n",
      "getting year 2001\n",
      "getting year 2002\n",
      "getting year 2003\n",
      "getting year 2004\n",
      "getting year 2005\n",
      "getting year 2006\n",
      "getting year 2007\n",
      "getting year 2008\n",
      "getting year 2009\n",
      "getting year 2010\n",
      "getting year 2011\n",
      "getting year 2012\n",
      "getting year 2013\n",
      "getting year 2014\n",
      "getting year 2015\n",
      "getting year 2016\n",
      "getting year 2017\n",
      "getting year 2018\n",
      "getting year 2019\n"
     ]
    }
   ],
   "source": [
    "draft_df = pd.concat([ get_draft_data(yr) for yr in range(1965, 2020) ])"
   ]
  },
  {
   "cell_type": "code",
   "execution_count": 30,
   "metadata": {},
   "outputs": [],
   "source": [
    "draft_df.to_csv(\"draft_1965_2019.csv\", index=False)"
   ]
  },
  {
   "cell_type": "code",
   "execution_count": null,
   "metadata": {},
   "outputs": [],
   "source": []
  }
 ],
 "metadata": {
  "kernelspec": {
   "display_name": "Python 3",
   "language": "python",
   "name": "python3"
  },
  "language_info": {
   "codemirror_mode": {
    "name": "ipython",
    "version": 3
   },
   "file_extension": ".py",
   "mimetype": "text/x-python",
   "name": "python",
   "nbconvert_exporter": "python",
   "pygments_lexer": "ipython3",
   "version": "3.7.4"
  }
 },
 "nbformat": 4,
 "nbformat_minor": 4
}
